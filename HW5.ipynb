{
 "cells": [
  {
   "cell_type": "code",
   "execution_count": 5,
   "id": "f8e351ba-160f-4665-a367-a54734edafef",
   "metadata": {},
   "outputs": [],
   "source": [
    "import numpy as np"
   ]
  },
  {
   "cell_type": "code",
   "execution_count": 53,
   "id": "aa59db57-ae9e-4a7a-9414-07fff4d97217",
   "metadata": {},
   "outputs": [],
   "source": [
    "#Python HW 5\n",
    "\n",
    "#This function returns odd rows of a given array or list. \n",
    "def onlyOdd(array):\n",
    "    list1 = []\n",
    "    for i in array:\n",
    "        counter = 0\n",
    "        for j in i:\n",
    "            if j%2 == 0:\n",
    "                counter = 1\n",
    "        if counter == 0:\n",
    "            list1.append(i)\n",
    "    return list1"
   ]
  },
  {
   "cell_type": "code",
   "execution_count": 55,
   "id": "db4c1f65-c9eb-4d65-b400-cebc3232f953",
   "metadata": {},
   "outputs": [
    {
     "name": "stdout",
     "output_type": "stream",
     "text": [
      "[array([5, 7, 9]), array([7, 7, 7])]\n"
     ]
    }
   ],
   "source": [
    "arr = np.array([[1, 2, 3], [5, 7, 9], [2, 4, 6], [7, 7, 7]])\n",
    "print(onlyOdd(arr))"
   ]
  },
  {
   "cell_type": "code",
   "execution_count": 101,
   "id": "dad1afa5-f688-467e-8e78-aa7fef966860",
   "metadata": {},
   "outputs": [],
   "source": [
    "#Checkers\n",
    "def board():\n",
    "    x = np.zeros((8,8), dtype = int)\n",
    "    for i in range(x.shape[0]):\n",
    "        for j in range(x.shape[1]):\n",
    "            if i%2 == 0:\n",
    "                if j%2 == 0:\n",
    "                    x[i][j] = 1\n",
    "            elif j%2 == 1:\n",
    "                x[i][j] = 1\n",
    "    return x"
   ]
  },
  {
   "cell_type": "code",
   "execution_count": 103,
   "id": "c861bdc9-76b1-454a-88b2-e7abed9dd9e4",
   "metadata": {},
   "outputs": [
    {
     "name": "stdout",
     "output_type": "stream",
     "text": [
      "[[1 0 1 0 1 0 1 0]\n",
      " [0 1 0 1 0 1 0 1]\n",
      " [1 0 1 0 1 0 1 0]\n",
      " [0 1 0 1 0 1 0 1]\n",
      " [1 0 1 0 1 0 1 0]\n",
      " [0 1 0 1 0 1 0 1]\n",
      " [1 0 1 0 1 0 1 0]\n",
      " [0 1 0 1 0 1 0 1]]\n"
     ]
    }
   ],
   "source": [
    "print(board())"
   ]
  },
  {
   "cell_type": "code",
   "execution_count": 113,
   "id": "3e37a2e4-6125-40a1-a1e7-1cfd6670fda1",
   "metadata": {},
   "outputs": [],
   "source": [
    "def reverse_checkerboard():\n",
    "    x = np.zeros((8,8), dtype = int)\n",
    "    for i in range(x.shape[0]):\n",
    "        for j in range(x.shape[1]):\n",
    "            if i%2 == 1:\n",
    "                if j%2 == 0:\n",
    "                    x[i][j] = 1\n",
    "            elif j%2 == 1:\n",
    "                x[i][j] = 1\n",
    "    return x"
   ]
  },
  {
   "cell_type": "code",
   "execution_count": 115,
   "id": "7c1afb9b-79a6-4f52-8a04-9f5bc1c172b2",
   "metadata": {},
   "outputs": [
    {
     "name": "stdout",
     "output_type": "stream",
     "text": [
      "[[0 1 0 1 0 1 0 1]\n",
      " [1 0 1 0 1 0 1 0]\n",
      " [0 1 0 1 0 1 0 1]\n",
      " [1 0 1 0 1 0 1 0]\n",
      " [0 1 0 1 0 1 0 1]\n",
      " [1 0 1 0 1 0 1 0]\n",
      " [0 1 0 1 0 1 0 1]\n",
      " [1 0 1 0 1 0 1 0]]\n"
     ]
    }
   ],
   "source": [
    "print(reverse_checkerboard())"
   ]
  },
  {
   "cell_type": "code",
   "execution_count": 1,
   "id": "aa2be721-a531-4bb1-9a4d-e1669019f610",
   "metadata": {},
   "outputs": [],
   "source": [
    "def expansion(strArr, i):\n",
    "    newArr = []\n",
    "    for string in strArr:\n",
    "        expanded_str = ''.join(char + ' ' * i for char in string)\n",
    "        newArr.append(expanded_str.strip())\n",
    "    \n",
    "    return newArr"
   ]
  },
  {
   "cell_type": "code",
   "execution_count": 7,
   "id": "3fb59b3d-893a-4225-8eee-68dbf997421c",
   "metadata": {},
   "outputs": [
    {
     "data": {
      "text/plain": [
       "['g  a  l  a  x  y', 'c  l  u  s  t  e  r  s']"
      ]
     },
     "execution_count": 7,
     "metadata": {},
     "output_type": "execute_result"
    }
   ],
   "source": [
    "universe = np.array(['galaxy', 'clusters'])\n",
    "expansion(universe, 2)"
   ]
  },
  {
   "cell_type": "code",
   "execution_count": 55,
   "id": "bace697a-17ac-41e9-aea2-3baafa1bd5ac",
   "metadata": {},
   "outputs": [],
   "source": [
    "def secondLargest(planets):\n",
    "    second_largest = []\n",
    "    for col in range(planets.shape[1]):\n",
    "        unique_values = np.unique(planets[:, col])\n",
    "        if len(unique_values) < 2:\n",
    "            return 'error array smaller than 2'\n",
    "        else:\n",
    "            second_largest.append(unique_values[-2])\n",
    "    return np.array(second_largest)\n",
    "    "
   ]
  },
  {
   "cell_type": "code",
   "execution_count": 57,
   "id": "b49b93fa-92f6-4fef-be8f-3fdb27f35b8f",
   "metadata": {},
   "outputs": [
    {
     "name": "stdout",
     "output_type": "stream",
     "text": [
      "[802 898 468 788 911]\n"
     ]
    }
   ],
   "source": [
    "planets = np.array([[192, 898, 747, 692, 914],\n",
    "                    [849, 249, 370, 658, 451],\n",
    "                    [802, 785, 143, 198, 616],\n",
    "                    [696, 926, 269, 788, 642],\n",
    "                    [583, 372, 468, 899, 911]])\n",
    "\n",
    "print(secondLargest(planets))"
   ]
  },
  {
   "cell_type": "code",
   "execution_count": 29,
   "id": "d5ad2bb1-8e2b-44af-bfb9-65a60fbb7c69",
   "metadata": {},
   "outputs": [
    {
     "name": "stdout",
     "output_type": "stream",
     "text": [
      "[1 2 3]\n",
      "1\n",
      "4\n",
      "7\n"
     ]
    }
   ],
   "source": []
  },
  {
   "cell_type": "code",
   "execution_count": null,
   "id": "63a39126-d0db-45ea-ae3f-37feec29526a",
   "metadata": {},
   "outputs": [],
   "source": []
  }
 ],
 "metadata": {
  "kernelspec": {
   "display_name": "Python 3 (ipykernel)",
   "language": "python",
   "name": "python3"
  },
  "language_info": {
   "codemirror_mode": {
    "name": "ipython",
    "version": 3
   },
   "file_extension": ".py",
   "mimetype": "text/x-python",
   "name": "python",
   "nbconvert_exporter": "python",
   "pygments_lexer": "ipython3",
   "version": "3.12.4"
  }
 },
 "nbformat": 4,
 "nbformat_minor": 5
}
